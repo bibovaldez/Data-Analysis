{
 "cells": [
  {
   "cell_type": "markdown",
   "metadata": {},
   "source": [
    "# Asynch Activity"
   ]
  },
  {
   "cell_type": "markdown",
   "metadata": {},
   "source": [
    "##### 1. Importing Libraries:"
   ]
  },
  {
   "cell_type": "code",
   "execution_count": 1,
   "metadata": {},
   "outputs": [],
   "source": [
    "import pandas as pd\n",
    "import math\n",
    "import sqlite3\n",
    "import json\n",
    "from sklearn.preprocessing import StandardScaler\n",
    "import numpy as np"
   ]
  },
  {
   "cell_type": "markdown",
   "metadata": {},
   "source": [
    "##### 2. Loading Data:"
   ]
  },
  {
   "cell_type": "code",
   "execution_count": 2,
   "metadata": {},
   "outputs": [],
   "source": [
    "data=pd.read_csv('Social_Network_Ads_practice.csv')"
   ]
  },
  {
   "cell_type": "markdown",
   "metadata": {},
   "source": [
    "##### 3. Handling Missing Data:"
   ]
  },
  {
   "cell_type": "code",
   "execution_count": 3,
   "metadata": {},
   "outputs": [],
   "source": [
    "age= math.floor(data[\"Age\"].median())\n",
    "data[\"Age\"]=data[\"Age\"].fillna(age)"
   ]
  },
  {
   "cell_type": "markdown",
   "metadata": {},
   "source": [
    "##### 4. Grouping Data by Gender and Age:"
   ]
  },
  {
   "cell_type": "code",
   "execution_count": 4,
   "metadata": {},
   "outputs": [],
   "source": [
    "gender={i:[] for i in data[\"Gender\"]}\n",
    "for Gender,age in zip(data[\"Gender\"],data[\"Age\"]):\n",
    "    gender[Gender]+=[age]"
   ]
  },
  {
   "cell_type": "markdown",
   "metadata": {},
   "source": [
    "##### 5. Standardizing Data:"
   ]
  },
  {
   "cell_type": "code",
   "execution_count": 5,
   "metadata": {},
   "outputs": [],
   "source": [
    "# feature Scaling\n",
    "for i in gender:\n",
    "    scaler = StandardScaler()\n",
    "    gender[i] = scaler.fit_transform(np.array(gender[i]).reshape(-1,1))\n",
    "\n",
    "    x = []\n",
    "    for j in gender[i]:\n",
    "        for k in j:\n",
    "            x.append(k)\n",
    "    gender[i] = x\n",
    "    "
   ]
  },
  {
   "cell_type": "markdown",
   "metadata": {},
   "source": [
    "##### 6. Storing Data in a SQLite Database:"
   ]
  },
  {
   "cell_type": "code",
   "execution_count": 9,
   "metadata": {},
   "outputs": [],
   "source": [
    "for i in gender:\n",
    "    # Connect to the database(or create it if it doesn't exist)\n",
    "    conn = sqlite3.connect('Asynch_Activtiy_db.db')\n",
    "\n",
    "    # Create a cursor object to interact with the database\n",
    "    cursor = conn.cursor()\n",
    "\n",
    "    # Create a table if it doesn't exist\n",
    "    cursor.execute('''CREATE TABLE IF NOT EXISTS users(id INTEGER PRIMARY KEY)''')\n",
    "\n",
    "    try:\n",
    "        # Add a new column named 'email' to the 'users' table\n",
    "        cursor.execute('ALTER TABLE users ADD COLUMN ' + i + ' TEXT')\n",
    "    except sqlite3.OperationalError:\n",
    "        pass\n",
    "\n",
    "    # Convert the list to a JSON string\n",
    "    gender_json = json.dumps(gender[i])\n",
    "\n",
    "    # Insert data into the table\n",
    "    cursor.execute(\"INSERT INTO users (\" + i + \") VALUES(?)\", (gender_json,))\n",
    "\n",
    "    # Commit the changes\n",
    "    conn.commit()\n",
    "\n",
    "# Close the cursor and connection when done\n",
    "cursor.close()\n",
    "conn.close()"
   ]
  }
 ],
 "metadata": {
  "kernelspec": {
   "display_name": "base",
   "language": "python",
   "name": "python3"
  },
  "language_info": {
   "codemirror_mode": {
    "name": "ipython",
    "version": 3
   },
   "file_extension": ".py",
   "mimetype": "text/x-python",
   "name": "python",
   "nbconvert_exporter": "python",
   "pygments_lexer": "ipython3",
   "version": "3.11.5"
  }
 },
 "nbformat": 4,
 "nbformat_minor": 2
}
